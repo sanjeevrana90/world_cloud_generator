{
 "cells": [
  {
   "cell_type": "code",
   "execution_count": 3,
   "id": "79dd609d",
   "metadata": {},
   "outputs": [],
   "source": [
    "import wikipedia\n",
    "import sys\n",
    "from wordcloud import WordCloud, STOPWORDS\n",
    "from PIL import Image"
   ]
  },
  {
   "cell_type": "code",
   "execution_count": 6,
   "id": "ac4f416e",
   "metadata": {},
   "outputs": [
    {
     "name": "stdout",
     "output_type": "stream",
     "text": [
      "Enter what you want to search: python\n",
      "Success\n"
     ]
    }
   ],
   "source": [
    "# Prompt the user to enter the word they want to search on Wikipedia\n",
    "searched_word = str(input('Enter what you want to search: '))\n",
    "\n",
    "# Use the Wikipedia library to search for the keyword entered by the user\n",
    "keyword = wikipedia.search(searched_word)\n",
    "\n",
    "# Get the Wikipedia page for the search result (assuming it's the first result)\n",
    "page = wikipedia.page(keyword)\n",
    "\n",
    "# Get the content (text) of the Wikipedia page\n",
    "content = page.content\n",
    "\n",
    "# Create a set of stopwords to be ignored in the word cloud\n",
    "stopwords = set(STOPWORDS)\n",
    "\n",
    "# Create a WordCloud object with the specified parameters\n",
    "wc = WordCloud(\n",
    "    background_color='white',  # Set the background color of the word cloud\n",
    "    max_words=300,             # Maximum number of words to be displayed in the word cloud\n",
    "    stopwords=stopwords        # Set of words to be ignored in the word cloud\n",
    ")\n",
    "\n",
    "# Generate the word cloud from the content of the Wikipedia page\n",
    "wc.generate(content)\n",
    "\n",
    "# Save the generated word cloud as an image file 'wordcloud_output.jpg'\n",
    "wc.to_file('wordcloud_output.jpg')\n",
    "\n",
    "# Print a success message to indicate that the word cloud generation and saving were successful\n",
    "print('Success')\n"
   ]
  },
  {
   "cell_type": "code",
   "execution_count": null,
   "id": "74e3dc0c",
   "metadata": {},
   "outputs": [],
   "source": []
  }
 ],
 "metadata": {
  "kernelspec": {
   "display_name": "Python 3 (ipykernel)",
   "language": "python",
   "name": "python3"
  },
  "language_info": {
   "codemirror_mode": {
    "name": "ipython",
    "version": 3
   },
   "file_extension": ".py",
   "mimetype": "text/x-python",
   "name": "python",
   "nbconvert_exporter": "python",
   "pygments_lexer": "ipython3",
   "version": "3.11.2"
  }
 },
 "nbformat": 4,
 "nbformat_minor": 5
}
